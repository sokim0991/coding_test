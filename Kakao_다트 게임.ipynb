{
 "cells": [
  {
   "cell_type": "code",
   "execution_count": 7,
   "metadata": {},
   "outputs": [
    {
     "name": "stdout",
     "output_type": "stream",
     "text": [
      "37\n",
      "9\n",
      "3\n",
      "23\n",
      "5\n",
      "-4\n",
      "59\n"
     ]
    }
   ],
   "source": [
    "#new 배열 정의 및 10을 @으로 대체한 방법\n",
    "\n",
    "def dart(dartResult):\n",
    "    answer = 0\n",
    "    if \"10\" in dartResult:\n",
    "        dartResult = dartResult.replace(\"10\",\"@\")\n",
    "    new = []\n",
    "    for i in dartResult:\n",
    "        if i == \"S\":\n",
    "            i = new[-1]**(1)\n",
    "            new.pop()\n",
    "        if i == \"D\":\n",
    "            i = new[-1]**(2)\n",
    "            new.pop()\n",
    "        if i == \"T\":\n",
    "            i = new[-1]**(3)\n",
    "            new.pop()\n",
    "        if i == \"*\":\n",
    "            i = new[-1]*2\n",
    "            if len(new)>1:\n",
    "                new[-2] = new[-2]*2\n",
    "            new.pop()\n",
    "        if i == \"#\":\n",
    "            i = new[-1]*(-1)\n",
    "            new.pop()\n",
    "        if i == \"@\":\n",
    "            i = 10\n",
    "        new.append(int(i))\n",
    "    for i in new:\n",
    "        answer += i \n",
    "    return answer\n",
    "\n",
    "print(dart('1S2D*3T'))\n",
    "print(dart('1D2S#10S'))\n",
    "print(dart('1D2S0T'))\n",
    "print(dart('1S*2T*3S'))\n",
    "print(dart('1D#2S*3S'))\n",
    "print(dart('1T2D3D#'))\n",
    "print(dart('1D2S3T*'))"
   ]
  },
  {
   "cell_type": "code",
   "execution_count": 8,
   "metadata": {},
   "outputs": [
    {
     "name": "stdout",
     "output_type": "stream",
     "text": [
      "37\n",
      "9\n",
      "3\n",
      "23\n",
      "5\n",
      "-4\n",
      "59\n"
     ]
    }
   ],
   "source": [
    "#정규 표현식을 사용한 방법\n",
    "import re\n",
    "\n",
    "\n",
    "def dart(inp):\n",
    "    shot = re.findall(r'\\d{1,2}[SDT][*#]?', inp)\n",
    "\n",
    "    opt = [1,1,1]\n",
    "    for i, s in enumerate(shot):\n",
    "        if s[-1] == '#':\n",
    "            opt[i] *= -1\n",
    "            shot[i] = shot[i][:-1]\n",
    "        elif s[-1] == '*':\n",
    "            opt[i] *= 2\n",
    "            shot[i] = shot[i][:-1]\n",
    "            if i:\n",
    "                opt[i-1] *= 2\n",
    "\n",
    "    point = [(int(s[:-1]) ** '0SDT'.find(s[-1]) * o) for s, o in zip(shot, opt)]\n",
    "\n",
    "    return sum(point)\n",
    "\n",
    "\n",
    "print(dart('1S2D*3T'))\n",
    "print(dart('1D2S#10S'))\n",
    "print(dart('1D2S0T'))\n",
    "print(dart('1S*2T*3S'))\n",
    "print(dart('1D#2S*3S'))\n",
    "print(dart('1T2D3D#'))\n",
    "print(dart('1D2S3T*'))"
   ]
  }
 ],
 "metadata": {
  "kernelspec": {
   "display_name": "Python 3",
   "language": "python",
   "name": "python3"
  },
  "language_info": {
   "codemirror_mode": {
    "name": "ipython",
    "version": 3
   },
   "file_extension": ".py",
   "mimetype": "text/x-python",
   "name": "python",
   "nbconvert_exporter": "python",
   "pygments_lexer": "ipython3",
   "version": "3.8.2"
  }
 },
 "nbformat": 4,
 "nbformat_minor": 4
}
