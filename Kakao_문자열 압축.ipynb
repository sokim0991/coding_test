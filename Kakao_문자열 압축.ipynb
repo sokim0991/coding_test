{
 "cells": [
  {
   "cell_type": "code",
   "execution_count": 1,
   "metadata": {},
   "outputs": [
    {
     "data": {
      "text/plain": [
       "7"
      ]
     },
     "execution_count": 1,
     "metadata": {},
     "output_type": "execute_result"
    }
   ],
   "source": [
    "#Solution1\n",
    "\n",
    "s = \"aabbaccc\"\n",
    "\n",
    "def solution(s):\n",
    "    length = []\n",
    "    result = \"\"\n",
    "    \n",
    "    if len(s) == 1:\n",
    "        return 1\n",
    "    \n",
    "    for cut in range(1, len(s) // 2 + 1): \n",
    "        count = 1\n",
    "        tempStr = s[:cut] \n",
    "        for i in range(cut, len(s), cut):\n",
    "            if s[i:i+cut] == tempStr:\n",
    "                count += 1\n",
    "            else:\n",
    "                if count == 1:\n",
    "                    count = \"\"\n",
    "                result += str(count) + tempStr\n",
    "                tempStr = s[i:i+cut]\n",
    "                count = 1\n",
    "\n",
    "        if count == 1:\n",
    "            count = \"\"\n",
    "        result += str(count) + tempStr\n",
    "        length.append(len(result))\n",
    "        result = \"\"\n",
    "    \n",
    "    return min(length)\n",
    "\n",
    "solution(s)"
   ]
  },
  {
   "cell_type": "code",
   "execution_count": 4,
   "metadata": {},
   "outputs": [
    {
     "data": {
      "text/plain": [
       "7"
      ]
     },
     "execution_count": 4,
     "metadata": {},
     "output_type": "execute_result"
    }
   ],
   "source": [
    "#Solution2\n",
    "\n",
    "s = \"aabbaccc\"\n",
    "\n",
    "def solution(s):\n",
    "    if len(s) < 3:           #길이가 1이면 1반환\n",
    "        return len(s)        #2변 압축해도 2반환\n",
    "    answer = len(s)          #후보값\n",
    "    max_cand = int(len(s)/2)  #\n",
    "                             #반으로 나워서 내림\n",
    "    for interval in range(1, max_cand+1):\n",
    "        start=interval\n",
    "        res = []\n",
    "        pre_s = s[0:interval]\n",
    "        num = 1\n",
    "        while True:            \n",
    "            now_s = s[start:start+interval]\n",
    "            if now_s == pre_s:\n",
    "                num += 1\n",
    "            else:                \n",
    "                res.append([num,pre_s])        \n",
    "                num = 1\n",
    "                pre_s = now_s\n",
    "        \n",
    "            if start > len(s):\n",
    "                break\n",
    "            start += interval\n",
    "        len_cand = 0\n",
    "        for k in range(len(res)):\n",
    "            if res[k][0] == 1:\n",
    "                len_cand += len(res[k][1])\n",
    "            else:\n",
    "                len_cand += len(str(res[k][0]))\n",
    "                len_cand += len(res[k][1])\n",
    "        answer = min(answer, len_cand)\n",
    "        \n",
    "    return answer\n",
    "\n",
    "solution(s)\n"
   ]
  },
  {
   "cell_type": "code",
   "execution_count": 17,
   "metadata": {},
   "outputs": [
    {
     "data": {
      "text/plain": [
       "7"
      ]
     },
     "execution_count": 17,
     "metadata": {},
     "output_type": "execute_result"
    }
   ],
   "source": [
    "#Solution3\n",
    "s = \"aabbaccc\"\n",
    "\n",
    "import re #정규표현식\n",
    "\n",
    "def solution(s):\n",
    "    resultCount = []\n",
    "\n",
    "    if len(s) <=2:\n",
    "        return len(s)\n",
    "    for i in range(1, len(s)//2 + 1):\n",
    "        #reList는 잘라진 원소를 담을 리스트\n",
    "        reList = re.sub('(\\w{%i})'%i,'\\g<1> ', s).split()\n",
    "        #정규표현식을 사용해서 문자열을 길이만큼 잘라주는 것\n",
    "        #sub는 s라는 문자열에서 '(\\w{%i})'가 있으면\n",
    "        #'\\g<1>'로 바꿔준다는 의미\n",
    "        #w는 글자(word)를 의미함\n",
    "        #g<1> 한 개의 그룹으로 묶고, 띄어쓰기를 한다.\n",
    "        #띄어쓰기를 기준으로 문자열에 넣어준다\n",
    "        count = 1\n",
    "        #하나의 글자가 뒤의 글자와 일치할 경우 카운트\n",
    "        result = [] #변환된 문자를 담아줄 리스트 (예: 2a, 2b, a, 2c)\n",
    "        for j in range(len(reList)):\n",
    "            if j < len(reList)-1 and reList[j] == reList[j+1]:\n",
    "            #j가 끝자리까지 갈때까지 돌리고 j번째 원소와 뒤의 원소가 같을때 \n",
    "                count += 1 #하나를 세준다\n",
    "            else:\n",
    "                if count == 1:\n",
    "                    result.append(reList[j]) \n",
    "                else: #카운트가 1이 아니면 숫자 + j번째 원소 추가\n",
    "                    result.append(str(count) + reList[j])\n",
    "                    count = 1\n",
    "            if j == len(reList)-1:\n",
    "                resultCount.append(len(''.join(result)))\n",
    "        return min(resultCount)\n",
    "    \n",
    "solution(s)"
   ]
  },
  {
   "cell_type": "code",
   "execution_count": 24,
   "metadata": {},
   "outputs": [
    {
     "name": "stdout",
     "output_type": "stream",
     "text": [
      "['a', 'a', 'b', 'b', 'a', 'c', 'c', 'c']\n",
      "['aa', 'bb', 'ac', 'cc']\n",
      "['aab', 'bac', 'cc']\n",
      "['aabb', 'accc']\n"
     ]
    }
   ],
   "source": [
    "#참고\n",
    "s = \"aabbaccc\"\n",
    "for i in range(1, len(s)//2 + 1):\n",
    "    reList = re.sub('(\\w{%i})'%i,'\\g<1> ', s).split()\n",
    "    print(reList)"
   ]
  }
 ],
 "metadata": {
  "kernelspec": {
   "display_name": "Python 3",
   "language": "python",
   "name": "python3"
  },
  "language_info": {
   "codemirror_mode": {
    "name": "ipython",
    "version": 3
   },
   "file_extension": ".py",
   "mimetype": "text/x-python",
   "name": "python",
   "nbconvert_exporter": "python",
   "pygments_lexer": "ipython3",
   "version": "3.8.2"
  }
 },
 "nbformat": 4,
 "nbformat_minor": 4
}
