{
 "cells": [
  {
   "cell_type": "code",
   "execution_count": 2,
   "metadata": {},
   "outputs": [
    {
     "data": {
      "text/plain": [
       "7"
      ]
     },
     "execution_count": 2,
     "metadata": {},
     "output_type": "execute_result"
    }
   ],
   "source": [
    "s = 'abcabcabcabc6de'\n",
    "\n",
    "def solution(s):\n",
    "    length = []\n",
    "    result = \"\"\n",
    "    \n",
    "    if len(s) == 1:\n",
    "        return 1\n",
    "    \n",
    "    for cut in range(1, len(s) // 2 + 1): \n",
    "        count = 1\n",
    "        tempStr = s[:cut] \n",
    "        for i in range(cut, len(s), cut):\n",
    "            if s[i:i+cut] == tempStr:\n",
    "                count += 1\n",
    "            else:\n",
    "                if count == 1:\n",
    "                    count = \"\"\n",
    "                result += str(count) + tempStr\n",
    "                tempStr = s[i:i+cut]\n",
    "                count = 1\n",
    "\n",
    "        if count == 1:\n",
    "            count = \"\"\n",
    "        result += str(count) + tempStr\n",
    "        length.append(len(result))\n",
    "        result = \"\"\n",
    "    \n",
    "    return min(length)\n",
    "\n",
    "solution(s)"
   ]
  }
 ],
 "metadata": {
  "kernelspec": {
   "display_name": "Python 3",
   "language": "python",
   "name": "python3"
  },
  "language_info": {
   "codemirror_mode": {
    "name": "ipython",
    "version": 3
   },
   "file_extension": ".py",
   "mimetype": "text/x-python",
   "name": "python",
   "nbconvert_exporter": "python",
   "pygments_lexer": "ipython3",
   "version": "3.8.3"
  }
 },
 "nbformat": 4,
 "nbformat_minor": 4
}
