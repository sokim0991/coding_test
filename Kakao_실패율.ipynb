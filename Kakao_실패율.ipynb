{
 "cells": [
  {
   "cell_type": "code",
   "execution_count": 1,
   "metadata": {},
   "outputs": [
    {
     "data": {
      "text/plain": [
       "[3, 4, 2, 1, 5]"
      ]
     },
     "execution_count": 1,
     "metadata": {},
     "output_type": "execute_result"
    }
   ],
   "source": [
    "N = 5\n",
    "stages = [2, 1, 2, 6, 2, 4, 3, 3]\n",
    "\n",
    "def solution(N, stages):\n",
    "    stage_info = {}\n",
    "    for stage in stages:\n",
    "        if stage not in stage_info: stage_info[stage] = 1\n",
    "        else: stage_info[stage] += 1\n",
    "    N_stage = {}\n",
    "    total = len(stages)\n",
    "    for i in range(1, N+1):\n",
    "        if i in stage_info and total > 0:\n",
    "            N_stage[i] = stage_info[i]/total\n",
    "            total -= stage_info[i]\n",
    "        else: N_stage[i] = 0\n",
    "    sorted_stage = sorted(N_stage.items(), key=lambda x: (-x[1], x[0]))\n",
    "    return [x[0] for x in sorted_stage]\n",
    "\n",
    "solution(N, stages)"
   ]
  }
 ],
 "metadata": {
  "kernelspec": {
   "display_name": "Python 3",
   "language": "python",
   "name": "python3"
  },
  "language_info": {
   "codemirror_mode": {
    "name": "ipython",
    "version": 3
   },
   "file_extension": ".py",
   "mimetype": "text/x-python",
   "name": "python",
   "nbconvert_exporter": "python",
   "pygments_lexer": "ipython3",
   "version": "3.8.2"
  }
 },
 "nbformat": 4,
 "nbformat_minor": 4
}
