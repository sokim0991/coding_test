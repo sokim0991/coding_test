{
 "cells": [
  {
   "cell_type": "code",
   "execution_count": 9,
   "metadata": {},
   "outputs": [
    {
     "data": {
      "text/plain": [
       "4"
      ]
     },
     "execution_count": 9,
     "metadata": {},
     "output_type": "execute_result"
    }
   ],
   "source": [
    "boards = [[0,0,0,0,0],[0,0,1,0,3],[0,2,5,0,1],[4,2,4,4,2],[3,5,1,3,1]]\n",
    "moves = [1,5,3,5,1,2,1,4]\n",
    "\n",
    "def solution(boards, moves):\n",
    "    moves = list(map(lambda mv : mv -1, moves))\n",
    "    stack = [0] \n",
    "    cnt = 0\n",
    "    \n",
    "    for i in moves: \n",
    "        for board in boards :\n",
    "            if board[i] != 0 :  \n",
    "                stack.append(board[i])\n",
    "                board[i] = 0\n",
    "                if stack[-1] == stack[-2]:\n",
    "                    stack.pop()\n",
    "                    stack.pop()\n",
    "                    cnt+=2\n",
    "                break\n",
    "    return cnt\n",
    "\n",
    "solution(boards,moves)"
   ]
  }
 ],
 "metadata": {
  "kernelspec": {
   "display_name": "Python 3",
   "language": "python",
   "name": "python3"
  },
  "language_info": {
   "codemirror_mode": {
    "name": "ipython",
    "version": 3
   },
   "file_extension": ".py",
   "mimetype": "text/x-python",
   "name": "python",
   "nbconvert_exporter": "python",
   "pygments_lexer": "ipython3",
   "version": "3.8.2"
  }
 },
 "nbformat": 4,
 "nbformat_minor": 4
}
